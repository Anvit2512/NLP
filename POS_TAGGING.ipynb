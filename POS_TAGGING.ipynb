{
 "cells": [
  {
   "cell_type": "code",
   "execution_count": 1,
   "id": "d25167bc-5f87-4b51-927b-382664e857d8",
   "metadata": {},
   "outputs": [],
   "source": [
    "import spacy"
   ]
  },
  {
   "cell_type": "code",
   "execution_count": 2,
   "id": "448f408f-f912-4de4-9e8b-cde1181905d0",
   "metadata": {},
   "outputs": [],
   "source": [
    "nlp=spacy.load(\"en_core_web_sm\")"
   ]
  },
  {
   "cell_type": "code",
   "execution_count": 7,
   "id": "18c67eda-b5ad-40ff-8824-f6c4699cf0db",
   "metadata": {},
   "outputs": [
    {
     "data": {
      "text/plain": [
       "['tok2vec', 'tagger', 'parser', 'attribute_ruler', 'lemmatizer', 'ner']"
      ]
     },
     "execution_count": 7,
     "metadata": {},
     "output_type": "execute_result"
    }
   ],
   "source": [
    "nlp.pipe_names"
   ]
  },
  {
   "cell_type": "code",
   "execution_count": 4,
   "id": "fee9293f-364e-47ca-84a0-fbe806ef7759",
   "metadata": {},
   "outputs": [
    {
     "name": "stdout",
     "output_type": "stream",
     "text": [
      "elon | PROPN | proper noun\n",
      "flew | VERB | verb\n",
      "to | ADP | adposition\n",
      "mars | NOUN | noun\n",
      "yesterday | NOUN | noun\n",
      ", | PUNCT | punctuation\n",
      "he | PRON | pronoun\n",
      "carried | VERB | verb\n",
      "biryani | ADJ | adjective\n",
      "masala | NOUN | noun\n",
      "with | ADP | adposition\n",
      "him | PRON | pronoun\n"
     ]
    }
   ],
   "source": [
    "doc=nlp(\"elon flew to mars yesterday, he carried biryani masala with him\")\n",
    "\n",
    "for token in doc:\n",
    "    print(token, \"|\", token.pos_, \"|\", spacy.explain(token.pos_))"
   ]
  },
  {
   "cell_type": "code",
   "execution_count": 10,
   "id": "fd29d482-0990-4a9f-bcaa-56d388cd0f85",
   "metadata": {},
   "outputs": [
    {
     "name": "stdout",
     "output_type": "stream",
     "text": [
      "wow | INTJ | interjection  |  UH  |  interjection\n",
      "! | PUNCT | punctuation  |  .  |  punctuation mark, sentence closer\n",
      "Dr. | PROPN | proper noun  |  NNP  |  noun, proper singular\n",
      "strange | ADJ | adjective  |  JJ  |  adjective (English), other noun-modifier (Chinese)\n",
      "made | VERB | verb  |  VBD  |  verb, past tense\n",
      "265 | NUM | numeral  |  CD  |  cardinal number\n",
      "million | NUM | numeral  |  CD  |  cardinal number\n",
      "$ | NUM | numeral  |  CD  |  cardinal number\n",
      "on | ADP | adposition  |  IN  |  conjunction, subordinating or preposition\n",
      "the | DET | determiner  |  DT  |  determiner\n",
      "very | ADV | adverb  |  RB  |  adverb\n",
      "first | ADJ | adjective  |  JJ  |  adjective (English), other noun-modifier (Chinese)\n",
      "day | NOUN | noun  |  NN  |  noun, singular or mass\n"
     ]
    }
   ],
   "source": [
    "doc=nlp(\"wow! Dr. strange made 265 million $ on the very first day\")\n",
    "\n",
    "\n",
    "for token in doc:\n",
    "    print(token, \"|\", token.pos_, \"|\", spacy.explain(token.pos_), \" | \", token.tag_, \" | \", spacy.explain(token.tag_))"
   ]
  },
  {
   "cell_type": "code",
   "execution_count": 11,
   "id": "6784f2e1-5446-42f7-8b54-650d741d0ec2",
   "metadata": {},
   "outputs": [
    {
     "name": "stdout",
     "output_type": "stream",
     "text": [
      "quits  |  VBZ  |  verb, 3rd person singular present\n"
     ]
    }
   ],
   "source": [
    "doc=nlp(\"He quits the job\")\n",
    "\n",
    "doc[1]\n",
    "print(doc[1].text, \" | \", doc[1].tag_, \" | \", spacy.explain(doc[1].tag_))\n"
   ]
  },
  {
   "cell_type": "code",
   "execution_count": 15,
   "id": "68e78d74-2c90-4f8e-b9c9-0571a0a1c011",
   "metadata": {},
   "outputs": [],
   "source": [
    "earnings_text=\"\"\" Microsoft Corp. today announced the following results for the quarter ended December 31, 2024, as compared to the corresponding period of last fiscal year:\n",
    "\n",
    "·         Revenue was $69.6 billion and increased 12%\n",
    "\n",
    "·         Operating income was $31.7 billion and increased 17% (up 16% in constant currency)\n",
    "\n",
    "·         Net income was $24.1 billion and increased 10%\n",
    "\n",
    "·         Diluted earnings per share was $3.23 and increased 10%\n",
    "\n",
    "We are innovating across our tech stack and helping customers unlock the full ROI of AI to capture the massive opportunity ahead,\" said Satya Nadella, chairman and chief executive officer of Microsoft. “Already, our AI business has surpassed an annual revenue run rate of $13 billion, up 175% year-over-year.\"\"\"\n",
    "\n"
   ]
  },
  {
   "cell_type": "code",
   "execution_count": 18,
   "id": "2e8fd3b5-2fbe-48be-ba3e-61bc7bab4ddd",
   "metadata": {},
   "outputs": [],
   "source": [
    "doc=nlp(earnings_text)\n",
    "\n",
    "filtered_tokens=[]\n",
    "\n",
    "for token in doc:\n",
    "    if token.pos_ not in [\"SPACE\",\"X\",\"PUNCT\"]:\n",
    "        filtered_tokens.append(token)\n",
    "    "
   ]
  },
  {
   "cell_type": "code",
   "execution_count": 19,
   "id": "07aa5583-a8fd-4af1-a725-a467449a7789",
   "metadata": {},
   "outputs": [
    {
     "data": {
      "text/plain": [
       "[Microsoft,\n",
       " Corp.,\n",
       " today,\n",
       " announced,\n",
       " the,\n",
       " following,\n",
       " results,\n",
       " for,\n",
       " the,\n",
       " quarter,\n",
       " ended,\n",
       " December,\n",
       " 31,\n",
       " 2024,\n",
       " as,\n",
       " compared,\n",
       " to,\n",
       " the,\n",
       " corresponding,\n",
       " period]"
      ]
     },
     "execution_count": 19,
     "metadata": {},
     "output_type": "execute_result"
    }
   ],
   "source": [
    "filtered_tokens[:20]"
   ]
  },
  {
   "cell_type": "code",
   "execution_count": 22,
   "id": "5724a405-dfe0-4df5-9ea0-a2732310b40d",
   "metadata": {},
   "outputs": [],
   "source": [
    "count=doc.count_by(spacy.attrs.POS)"
   ]
  },
  {
   "cell_type": "code",
   "execution_count": 23,
   "id": "8b7bfecd-5ba6-4523-8f1e-39e384e38635",
   "metadata": {},
   "outputs": [
    {
     "name": "stdout",
     "output_type": "stream",
     "text": [
      "SPACE | 10\n",
      "PROPN | 8\n",
      "NOUN | 30\n",
      "VERB | 16\n",
      "DET | 6\n",
      "ADP | 10\n",
      "NUM | 17\n",
      "PUNCT | 19\n",
      "SCONJ | 1\n",
      "ADJ | 10\n",
      "AUX | 6\n",
      "SYM | 5\n",
      "CCONJ | 6\n",
      "ADV | 4\n",
      "PRON | 3\n",
      "PART | 1\n"
     ]
    }
   ],
   "source": [
    "for k,v in count.items():\n",
    "    print(doc.vocab[k].text,\"|\",v)\n"
   ]
  },
  {
   "cell_type": "code",
   "execution_count": null,
   "id": "b21369f2-56c6-405e-bd7f-6e13c7ec6fe9",
   "metadata": {},
   "outputs": [],
   "source": []
  }
 ],
 "metadata": {
  "kernelspec": {
   "display_name": "Python 3 (ipykernel)",
   "language": "python",
   "name": "python3"
  },
  "language_info": {
   "codemirror_mode": {
    "name": "ipython",
    "version": 3
   },
   "file_extension": ".py",
   "mimetype": "text/x-python",
   "name": "python",
   "nbconvert_exporter": "python",
   "pygments_lexer": "ipython3",
   "version": "3.8.20"
  }
 },
 "nbformat": 4,
 "nbformat_minor": 5
}
