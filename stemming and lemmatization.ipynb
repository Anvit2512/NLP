{
 "cells": [
  {
   "cell_type": "code",
   "execution_count": 1,
   "id": "cf8717d9-0fcf-4d2c-aed6-fc88213984ca",
   "metadata": {},
   "outputs": [],
   "source": [
    "import nltk\n",
    "import spacy"
   ]
  },
  {
   "cell_type": "code",
   "execution_count": 2,
   "id": "da8cf995-9ff5-4cb1-a8b7-4cf2ee97336d",
   "metadata": {},
   "outputs": [],
   "source": [
    "from nltk.stem import PorterStemmer\n",
    "stemmer=PorterStemmer()\n"
   ]
  },
  {
   "cell_type": "code",
   "execution_count": 3,
   "id": "4e251a50-c690-478c-8b7c-356045b5e962",
   "metadata": {},
   "outputs": [
    {
     "name": "stdout",
     "output_type": "stream",
     "text": [
      "eating  |  eat\n",
      "eats  |  eat\n",
      "eats  |  eat\n",
      "ate  |  ate\n",
      "adjustable  |  adjust\n",
      "rafting  |  raft\n",
      "ability  |  abil\n",
      "meeting  |  meet\n"
     ]
    }
   ],
   "source": [
    "words=[\"eating\",\"eats\", \"eats\", \"ate\",\"adjustable\", \"rafting\", \"ability\", \"meeting\"]\n",
    "\n",
    "for word in words:\n",
    "    print(word,\" | \", stemmer.stem(word))"
   ]
  },
  {
   "cell_type": "code",
   "execution_count": 5,
   "id": "2fbe9999-d725-46b6-a2e9-531691fc08f0",
   "metadata": {},
   "outputs": [
    {
     "name": "stdout",
     "output_type": "stream",
     "text": [
      "eating  |  eat  |  9837207709914848172\n",
      "eats  |  eat  |  9837207709914848172\n",
      "eat  |  eat  |  9837207709914848172\n",
      "ate  |  eat  |  9837207709914848172\n",
      "adjustable  |  adjustable  |  6033511944150694480\n",
      "rafting  |  raft  |  7154368781129989833\n",
      "ability  |  ability  |  11565809527369121409\n",
      "meeting  |  meeting  |  14798207169164081740\n",
      "better  |  well  |  4525988469032889948\n"
     ]
    }
   ],
   "source": [
    "nlp=spacy.load(\"en_core_web_sm\")\n",
    "doc=nlp(\"eating eats eat ate adjustable rafting ability meeting better\")\n",
    "\n",
    "for token in doc:\n",
    "    print(token, \" | \", token.lemma_, \" | \", token.lemma)"
   ]
  },
  {
   "cell_type": "code",
   "execution_count": 6,
   "id": "5f4fdf82-f89c-4768-8a96-78ca80401bcb",
   "metadata": {},
   "outputs": [
    {
     "name": "stdout",
     "output_type": "stream",
     "text": [
      "Mando  |  Mando  |  7837215228004622142\n",
      "talked  |  talk  |  13939146775466599234\n",
      "for  |  for  |  16037325823156266367\n",
      "3  |  3  |  602994839685422785\n",
      "hours  |  hour  |  9748623380567160636\n",
      "althought  |  althought  |  14669861110173107301\n",
      "talking  |  talking  |  3577425109143670181\n",
      "is  |  be  |  10382539506755952630\n",
      "n't  |  not  |  447765159362469301\n",
      "his  |  his  |  2661093235354845946\n",
      "thing  |  thing  |  2473243759842082748\n",
      "he  |  he  |  1655312771067108281\n",
      "became  |  become  |  12558846041070486771\n",
      "talkative  |  talkative  |  13364764166055324990\n"
     ]
    }
   ],
   "source": [
    "doc=nlp(\"Mando talked for 3 hours althought talking isn't his thing he became talkative\")\n",
    "\n",
    "for token in doc:\n",
    "    print(token, \" | \", token.lemma_, \" | \", token.lemma)"
   ]
  },
  {
   "cell_type": "code",
   "execution_count": 7,
   "id": "e362a042-567a-4468-9075-0572dd8b4932",
   "metadata": {},
   "outputs": [
    {
     "data": {
      "text/plain": [
       "['tok2vec', 'tagger', 'parser', 'attribute_ruler', 'lemmatizer', 'ner']"
      ]
     },
     "execution_count": 7,
     "metadata": {},
     "output_type": "execute_result"
    }
   ],
   "source": [
    "nlp.pipe_names"
   ]
  },
  {
   "cell_type": "code",
   "execution_count": 11,
   "id": "464af73d-8ee5-45c7-a91e-516516882419",
   "metadata": {},
   "outputs": [
    {
     "name": "stdout",
     "output_type": "stream",
     "text": [
      "Bro  |  Brother\n",
      ",  |  ,\n",
      "you  |  you\n",
      "wanna  |  wanna\n",
      "go  |  go\n",
      "?  |  ?\n",
      "Barh  |  Brother\n",
      ",  |  ,\n",
      "do  |  do\n",
      "n't  |  not\n",
      "say  |  say\n",
      "no  |  no\n",
      "!  |  !\n",
      "I  |  I\n",
      "am  |  be\n",
      "exhausted  |  exhaust\n"
     ]
    }
   ],
   "source": [
    "ar=nlp.get_pipe(\"attribute_ruler\")\n",
    "ar.add([[{\"TEXT\":\"Bro\"}],[{\"TEXT\":\"Barh\"}]], {\"LEMMA\":\"Brother\"})\n",
    "\n",
    "\n",
    "doc=nlp(\"Bro, you wanna go? Barh, don't say no! I am exhausted\")\n",
    "\n",
    "for token in doc:\n",
    "    print(token, \" | \", token.lemma_)"
   ]
  },
  {
   "cell_type": "code",
   "execution_count": null,
   "id": "632fae86-434c-4293-92f7-f73df78f1f5d",
   "metadata": {},
   "outputs": [],
   "source": []
  }
 ],
 "metadata": {
  "kernelspec": {
   "display_name": "Python 3 (ipykernel)",
   "language": "python",
   "name": "python3"
  },
  "language_info": {
   "codemirror_mode": {
    "name": "ipython",
    "version": 3
   },
   "file_extension": ".py",
   "mimetype": "text/x-python",
   "name": "python",
   "nbconvert_exporter": "python",
   "pygments_lexer": "ipython3",
   "version": "3.8.20"
  }
 },
 "nbformat": 4,
 "nbformat_minor": 5
}
